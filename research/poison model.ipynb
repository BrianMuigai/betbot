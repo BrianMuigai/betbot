{
 "cells": [
  {
   "cell_type": "code",
   "execution_count": 1,
   "metadata": {},
   "outputs": [
    {
     "data": {
      "text/html": [
       "<div>\n",
       "<style scoped>\n",
       "    .dataframe tbody tr th:only-of-type {\n",
       "        vertical-align: middle;\n",
       "    }\n",
       "\n",
       "    .dataframe tbody tr th {\n",
       "        vertical-align: top;\n",
       "    }\n",
       "\n",
       "    .dataframe thead th {\n",
       "        text-align: right;\n",
       "    }\n",
       "</style>\n",
       "<table border=\"1\" class=\"dataframe\">\n",
       "  <thead>\n",
       "    <tr style=\"text-align: right;\">\n",
       "      <th></th>\n",
       "      <th>Div</th>\n",
       "      <th>Date</th>\n",
       "      <th>HomeTeam</th>\n",
       "      <th>AwayTeam</th>\n",
       "      <th>FTHG</th>\n",
       "      <th>FTAG</th>\n",
       "      <th>FTR</th>\n",
       "      <th>HTHG</th>\n",
       "      <th>HTAG</th>\n",
       "      <th>HTR</th>\n",
       "      <th>...</th>\n",
       "      <th>BbAv&lt;2.5</th>\n",
       "      <th>BbAH</th>\n",
       "      <th>BbAHh</th>\n",
       "      <th>BbMxAHH</th>\n",
       "      <th>BbAvAHH</th>\n",
       "      <th>BbMxAHA</th>\n",
       "      <th>BbAvAHA</th>\n",
       "      <th>PSCH</th>\n",
       "      <th>PSCD</th>\n",
       "      <th>PSCA</th>\n",
       "    </tr>\n",
       "  </thead>\n",
       "  <tbody>\n",
       "    <tr>\n",
       "      <th>0</th>\n",
       "      <td>E0</td>\n",
       "      <td>10/08/2018</td>\n",
       "      <td>Man United</td>\n",
       "      <td>Leicester</td>\n",
       "      <td>2</td>\n",
       "      <td>1</td>\n",
       "      <td>H</td>\n",
       "      <td>1</td>\n",
       "      <td>0</td>\n",
       "      <td>H</td>\n",
       "      <td>...</td>\n",
       "      <td>1.79</td>\n",
       "      <td>17</td>\n",
       "      <td>-0.75</td>\n",
       "      <td>1.75</td>\n",
       "      <td>1.70</td>\n",
       "      <td>2.29</td>\n",
       "      <td>2.21</td>\n",
       "      <td>1.55</td>\n",
       "      <td>4.07</td>\n",
       "      <td>7.69</td>\n",
       "    </tr>\n",
       "    <tr>\n",
       "      <th>1</th>\n",
       "      <td>E0</td>\n",
       "      <td>11/08/2018</td>\n",
       "      <td>Bournemouth</td>\n",
       "      <td>Cardiff</td>\n",
       "      <td>2</td>\n",
       "      <td>0</td>\n",
       "      <td>H</td>\n",
       "      <td>1</td>\n",
       "      <td>0</td>\n",
       "      <td>H</td>\n",
       "      <td>...</td>\n",
       "      <td>1.83</td>\n",
       "      <td>20</td>\n",
       "      <td>-0.75</td>\n",
       "      <td>2.20</td>\n",
       "      <td>2.13</td>\n",
       "      <td>1.80</td>\n",
       "      <td>1.75</td>\n",
       "      <td>1.88</td>\n",
       "      <td>3.61</td>\n",
       "      <td>4.70</td>\n",
       "    </tr>\n",
       "    <tr>\n",
       "      <th>2</th>\n",
       "      <td>E0</td>\n",
       "      <td>11/08/2018</td>\n",
       "      <td>Fulham</td>\n",
       "      <td>Crystal Palace</td>\n",
       "      <td>0</td>\n",
       "      <td>2</td>\n",
       "      <td>A</td>\n",
       "      <td>0</td>\n",
       "      <td>1</td>\n",
       "      <td>A</td>\n",
       "      <td>...</td>\n",
       "      <td>1.87</td>\n",
       "      <td>22</td>\n",
       "      <td>-0.25</td>\n",
       "      <td>2.18</td>\n",
       "      <td>2.11</td>\n",
       "      <td>1.81</td>\n",
       "      <td>1.77</td>\n",
       "      <td>2.62</td>\n",
       "      <td>3.38</td>\n",
       "      <td>2.90</td>\n",
       "    </tr>\n",
       "    <tr>\n",
       "      <th>3</th>\n",
       "      <td>E0</td>\n",
       "      <td>11/08/2018</td>\n",
       "      <td>Huddersfield</td>\n",
       "      <td>Chelsea</td>\n",
       "      <td>0</td>\n",
       "      <td>3</td>\n",
       "      <td>A</td>\n",
       "      <td>0</td>\n",
       "      <td>2</td>\n",
       "      <td>A</td>\n",
       "      <td>...</td>\n",
       "      <td>1.84</td>\n",
       "      <td>23</td>\n",
       "      <td>1.00</td>\n",
       "      <td>1.84</td>\n",
       "      <td>1.80</td>\n",
       "      <td>2.13</td>\n",
       "      <td>2.06</td>\n",
       "      <td>7.24</td>\n",
       "      <td>3.95</td>\n",
       "      <td>1.58</td>\n",
       "    </tr>\n",
       "    <tr>\n",
       "      <th>4</th>\n",
       "      <td>E0</td>\n",
       "      <td>11/08/2018</td>\n",
       "      <td>Newcastle</td>\n",
       "      <td>Tottenham</td>\n",
       "      <td>1</td>\n",
       "      <td>2</td>\n",
       "      <td>A</td>\n",
       "      <td>1</td>\n",
       "      <td>2</td>\n",
       "      <td>A</td>\n",
       "      <td>...</td>\n",
       "      <td>1.81</td>\n",
       "      <td>20</td>\n",
       "      <td>0.25</td>\n",
       "      <td>2.20</td>\n",
       "      <td>2.12</td>\n",
       "      <td>1.80</td>\n",
       "      <td>1.76</td>\n",
       "      <td>4.74</td>\n",
       "      <td>3.53</td>\n",
       "      <td>1.89</td>\n",
       "    </tr>\n",
       "  </tbody>\n",
       "</table>\n",
       "<p>5 rows × 62 columns</p>\n",
       "</div>"
      ],
      "text/plain": [
       "  Div        Date      HomeTeam        AwayTeam  FTHG  FTAG FTR  HTHG  HTAG  \\\n",
       "0  E0  10/08/2018    Man United       Leicester     2     1   H     1     0   \n",
       "1  E0  11/08/2018   Bournemouth         Cardiff     2     0   H     1     0   \n",
       "2  E0  11/08/2018        Fulham  Crystal Palace     0     2   A     0     1   \n",
       "3  E0  11/08/2018  Huddersfield         Chelsea     0     3   A     0     2   \n",
       "4  E0  11/08/2018     Newcastle       Tottenham     1     2   A     1     2   \n",
       "\n",
       "  HTR  ...  BbAv<2.5  BbAH  BbAHh  BbMxAHH  BbAvAHH  BbMxAHA  BbAvAHA  PSCH  \\\n",
       "0   H  ...      1.79    17  -0.75     1.75     1.70     2.29     2.21  1.55   \n",
       "1   H  ...      1.83    20  -0.75     2.20     2.13     1.80     1.75  1.88   \n",
       "2   A  ...      1.87    22  -0.25     2.18     2.11     1.81     1.77  2.62   \n",
       "3   A  ...      1.84    23   1.00     1.84     1.80     2.13     2.06  7.24   \n",
       "4   A  ...      1.81    20   0.25     2.20     2.12     1.80     1.76  4.74   \n",
       "\n",
       "   PSCD  PSCA  \n",
       "0  4.07  7.69  \n",
       "1  3.61  4.70  \n",
       "2  3.38  2.90  \n",
       "3  3.95  1.58  \n",
       "4  3.53  1.89  \n",
       "\n",
       "[5 rows x 62 columns]"
      ]
     },
     "execution_count": 1,
     "metadata": {},
     "output_type": "execute_result"
    }
   ],
   "source": [
    "import numpy as np\n",
    "import progressbar\n",
    "import pandas as pd\n",
    "import seaborn\n",
    "from scipy.stats import poisson,skellam\n",
    "from scipy.optimize import minimize\n",
    "import matplotlib.pyplot as plt\n",
    "\n",
    "loc = \"Data/England/\"\n",
    "\n",
    "raw_data_6 = pd.read_csv(loc + '05-06.csv')[:380]\n",
    "raw_data_7 = pd.read_csv(loc + '06-07.csv')[:380]\n",
    "raw_data_8 = pd.read_csv(loc + '07-08.csv')[:380]\n",
    "raw_data_9 = pd.read_csv(loc + '08-09.csv')[:380]\n",
    "raw_data_10 = pd.read_csv(loc + '09-10.csv')[:380]\n",
    "raw_data_11 = pd.read_csv(loc + '10-11.csv')[:380]\n",
    "raw_data_12 = pd.read_csv(loc + '11-12.csv')[:380]\n",
    "raw_data_13 = pd.read_csv(loc + '12-13.csv')[:380]\n",
    "raw_data_14 = pd.read_csv(loc + '13-14.csv')[:380]\n",
    "raw_data_15 = pd.read_csv(loc + '14-15.csv')[:380]\n",
    "raw_data_16 = pd.read_csv(loc + '15-16.csv')[:380]\n",
    "raw_data_17 = pd.read_csv(loc + '16-17.csv')[:380]\n",
    "raw_data_18 = pd.read_csv(loc + '17-18.csv')[:380]\n",
    "raw_data_19 = pd.read_csv(loc + '18-19.csv')[:380]\n",
    "\n",
    "raw_data_19.head()"
   ]
  },
  {
   "cell_type": "markdown",
   "metadata": {},
   "source": [
    "mean home goals and away goals"
   ]
  },
  {
   "cell_type": "code",
   "execution_count": 2,
   "metadata": {},
   "outputs": [],
   "source": [
    "def get_goal_means(df):\n",
    "    HA_avg = df[['FTHG', 'FTAG']].astype(int).mean()\n",
    "    return HA_avg\n",
    "gmean_6 = get_goal_means(raw_data_6)\n",
    "gmean_7 = get_goal_means(raw_data_7)\n",
    "gmean_8 = get_goal_means(raw_data_8)\n",
    "gmean_9 = get_goal_means(raw_data_9)\n",
    "gmean_10 = get_goal_means(raw_data_10)\n",
    "gmean_11 = get_goal_means(raw_data_11)\n",
    "gmean_12 = get_goal_means(raw_data_12)\n",
    "gmean_13 = get_goal_means(raw_data_13)\n",
    "gmean_14 = get_goal_means(raw_data_14)\n",
    "gmean_15 = get_goal_means(raw_data_15)\n",
    "gmean_16 = get_goal_means(raw_data_16)\n",
    "gmean_17 = get_goal_means(raw_data_17)\n",
    "gmean_18 = get_goal_means(raw_data_18)\n",
    "gmean_19 = get_goal_means(raw_data_19)"
   ]
  },
  {
   "cell_type": "code",
   "execution_count": 3,
   "metadata": {},
   "outputs": [],
   "source": [
    "all_gmeans = pd.concat([gmean_6,gmean_7,gmean_8,gmean_9,gmean_10], ignore_index=True)"
   ]
  },
  {
   "cell_type": "code",
   "execution_count": 4,
   "metadata": {},
   "outputs": [
    {
     "name": "stderr",
     "output_type": "stream",
     "text": [
      "c:\\users\\naomi\\appdata\\local\\programs\\python\\python37-32\\lib\\site-packages\\matplotlib\\axes\\_axes.py:6462: UserWarning: The 'normed' kwarg is deprecated, and has been replaced by the 'density' kwarg.\n",
      "  warnings.warn(\"The 'normed' kwarg is deprecated, and has been \"\n"
     ]
    },
    {
     "data": {
      "image/png": "[encoded data removed]",
      "text/plain": [
       "<Figure size 432x288 with 1 Axes>"
      ]
     },
     "metadata": {},
     "output_type": "display_data"
    }
   ],
   "source": [
    "# construct Poisson  for each mean goals value\n",
    "poisson_pred = np.column_stack(\n",
    "    [[poisson.pmf(i, gmean_18[j]) \n",
    "      for i in range(8)] for j in range(2)])\n",
    "\n",
    "# plot histogram of actual goals\n",
    "plt.hist(raw_data_18[['FTHG', 'FTAG']].astype(int).values, \n",
    "         range(9), alpha=0.7, label=['Home', 'Away'],\n",
    "         normed=True, color=[\"#FFA07A\", \"#20B2AA\"])\n",
    "\n",
    "# add lines for the Poisson distributions\n",
    "pois1, = plt.plot([i-0.5 for i in range(1,9)], poisson_pred[:,0],\n",
    "                  linestyle='-', marker='o',label=\"Home\", color = '#CD5C5C')\n",
    "pois2, = plt.plot([i-0.5 for i in range(1,9)], poisson_pred[:,1],\n",
    "                  linestyle='-', marker='o',label=\"Away\", color = '#006400')\n",
    "\n",
    "leg=plt.legend(loc='upper right', fontsize=13, ncol=2)\n",
    "leg.set_title(\"Poisson           Actual        \", prop = {'size':'14', 'weight':'bold'})\n",
    "\n",
    "plt.xticks([i-0.5 for i in range(1,9)],[i for i in range(9)])\n",
    "plt.xlabel(\"Goals per Match\",size=13)\n",
    "plt.ylabel(\"Proportion of Matches\",size=13)\n",
    "plt.title(\"Number of Goals per Match (EPL 2016/17 Season)\",size=14,fontweight='bold')\n",
    "plt.ylim([-0.004, 0.4])\n",
    "plt.tight_layout()\n",
    "plt.show()"
   ]
  },
  {
   "cell_type": "code",
   "execution_count": 5,
   "metadata": {},
   "outputs": [
    {
     "data": {
      "text/plain": [
       "0.2538008836380457"
      ]
     },
     "execution_count": 5,
     "metadata": {},
     "output_type": "execute_result"
    }
   ],
   "source": [
    "# probability of draw between home and away team\n",
    "skellam.pmf(0.0,  gmean_18.FTHG,  gmean_18.FTAG)"
   ]
  },
  {
   "cell_type": "code",
   "execution_count": 6,
   "metadata": {},
   "outputs": [
    {
     "data": {
      "text/plain": [
       "0.22886603504134242"
      ]
     },
     "execution_count": 6,
     "metadata": {},
     "output_type": "execute_result"
    }
   ],
   "source": [
    "# probability of home team winning by one goal\n",
    "skellam.pmf(1,  gmean_18.FTHG,  gmean_18.FTAG)"
   ]
  },
  {
   "cell_type": "code",
   "execution_count": 7,
   "metadata": {},
   "outputs": [
    {
     "name": "stderr",
     "output_type": "stream",
     "text": [
      "c:\\users\\naomi\\appdata\\local\\programs\\python\\python37-32\\lib\\site-packages\\matplotlib\\axes\\_axes.py:6462: UserWarning: The 'normed' kwarg is deprecated, and has been replaced by the 'density' kwarg.\n",
      "  warnings.warn(\"The 'normed' kwarg is deprecated, and has been \"\n"
     ]
    },
    {
     "data": {
      "image/png": "[encoded data removed]",
      "text/plain": [
       "<Figure size 432x288 with 1 Axes>"
      ]
     },
     "metadata": {},
     "output_type": "display_data"
    }
   ],
   "source": [
    "skellam_pred = [skellam.pmf(i,  gmean_18.FTHG,  gmean_18.FTAG) for i in range(-6,8)]\n",
    "\n",
    "plt.hist(raw_data_18[['FTHG']].astype(int).values - raw_data_18[['FTAG']].astype(int).values, range(-6,8), \n",
    "         alpha=0.7, label='Actual',normed=True)\n",
    "plt.plot([i+0.5 for i in range(-6,8)], skellam_pred,\n",
    "                  linestyle='-', marker='o',label=\"Skellam\", color = '#CD5C5C')\n",
    "plt.legend(loc='upper right', fontsize=13)\n",
    "plt.xticks([i+0.5 for i in range(-6,8)],[i for i in range(-6,8)])\n",
    "plt.xlabel(\"Home Goals - Away Goals\",size=13)\n",
    "plt.ylabel(\"Proportion of Matches\",size=13)\n",
    "plt.title(\"Difference in Goals Scored (Home Team vs Away Team)\",size=14,fontweight='bold')\n",
    "plt.ylim([-0.004, 0.26])\n",
    "plt.tight_layout()\n",
    "plt.show()"
   ]
  },
  {
   "cell_type": "code",
   "execution_count": 8,
   "metadata": {},
   "outputs": [],
   "source": [
    "\n",
    "def goal_dist(df, team1, team2):\n",
    "\n",
    "    fig,(ax1,ax2) = plt.subplots(2, 1)\n",
    "\n",
    "\n",
    "    team1_home = df[df['HomeTeam']==team1][['FTHG']].astype(int).apply(pd.value_counts,normalize=True)\n",
    "    team1_home_pois = [poisson.pmf(i,np.sum(np.multiply(team1_home.values.T,team1_home.index.T),axis=1)[0]) for i in range(8)]\n",
    "    team2_home = df[df['HomeTeam']==team2][['FTHG']].astype(int).apply(pd.value_counts,normalize=True)\n",
    "    team2_home_pois = [poisson.pmf(i,np.sum(np.multiply(team2_home.values.T,team2_home.index.T),axis=1)[0]) for i in range(8)]\n",
    "\n",
    "    team1_away = df[df['AwayTeam']==team1][['FTAG']].astype(int).apply(pd.value_counts,normalize=True)\n",
    "    team1_away_pois = [poisson.pmf(i,np.sum(np.multiply(team1_away.values.T,team1_away.index.T),axis=1)[0]) for i in range(8)]\n",
    "    team2_away = df[df['AwayTeam']==team2][['FTAG']].astype(int).apply(pd.value_counts,normalize=True)\n",
    "    team2_away_pois = [poisson.pmf(i,np.sum(np.multiply(team2_away.values.T,team2_away.index.T),axis=1)[0]) for i in range(8)]\n",
    "\n",
    "    ax1.bar(team1_home.index-0.4,np.array(team1_home.values).reshape(-1),width=0.4,color=\"#034694\",label=team1)\n",
    "    ax1.bar(team2_home.index,np.array(team2_home.values).reshape(-1),width=0.4,color=\"#EB172B\",label=team2)\n",
    "    pois1, = ax1.plot([i for i in range(8)], team1_home_pois,\n",
    "                      linestyle='-', marker='o',label=team1, color = \"#0a7bff\")\n",
    "    pois1, = ax1.plot([i for i in range(8)], team2_home_pois,\n",
    "                      linestyle='-', marker='o',label=team2, color = \"#ff7c89\")\n",
    "    leg=ax1.legend(loc='upper right', fontsize=12, ncol=2)\n",
    "    leg.set_title(\"Poisson                 Actual                \", prop = {'size':'14', 'weight':'bold'})\n",
    "    ax1.set_xlim([-0.5,7.5])\n",
    "    ax1.set_ylim([-0.01,0.65])\n",
    "    ax1.set_xticklabels([])\n",
    "    # mimicing the facet plots in ggplot2 with a bit of a hack\n",
    "    ax1.text(7.65, 0.585, '                Home                ', rotation=-90,\n",
    "            bbox={'facecolor':'#ffbcf6', 'alpha':0.5, 'pad':5})\n",
    "    ax2.text(7.65, 0.585, '                Away                ', rotation=-90,\n",
    "            bbox={'facecolor':'#ffbcf6', 'alpha':0.5, 'pad':5})\n",
    "\n",
    "    ax2.bar(team1_away.index-0.4,np.array(team1_away.values).reshape(-1),width=0.4,color=\"#034694\",label=\"Chelsea\")\n",
    "    ax2.bar(team2_away.index,np.array(team2_away.values).reshape(-1),width=0.4,color=\"#EB172B\",label=\"Sunderland\")\n",
    "    pois1, = ax2.plot([i for i in range(8)], team1_away_pois,\n",
    "                      linestyle='-', marker='o',label=team1, color = \"#0a7bff\")\n",
    "    pois1, = ax2.plot([i for i in range(8)], team2_away_pois,\n",
    "                      linestyle='-', marker='o',label=team2, color = \"#ff7c89\")\n",
    "    ax2.set_xlim([-0.5,7.5])\n",
    "    ax2.set_ylim([-0.01,0.65])\n",
    "    ax1.set_title(\"Number of Goals per Match\",size=14,fontweight='bold')\n",
    "    ax2.set_xlabel(\"Goals per Match\",size=13)\n",
    "    ax2.text(-1.15, 0.9, 'Proportion of Matches', rotation=90, size=13)\n",
    "    plt.tight_layout()\n",
    "    plt.show()"
   ]
  },
  {
   "cell_type": "code",
   "execution_count": 9,
   "metadata": {},
   "outputs": [
    {
     "data": {
      "image/png": "[encoded data removed]",
      "text/plain": [
       "<Figure size 432x288 with 2 Axes>"
      ]
     },
     "metadata": {},
     "output_type": "display_data"
    }
   ],
   "source": [
    "goal_dist(raw_data_19, 'Chelsea', 'Liverpool')"
   ]
  },
  {
   "cell_type": "markdown",
   "metadata": {},
   "source": [
    "## Building a model"
   ]
  },
  {
   "cell_type": "code",
   "execution_count": 10,
   "metadata": {},
   "outputs": [],
   "source": [
    "# importing the tools required for the Poisson regression model\n",
    "import statsmodels.api as sm\n",
    "import statsmodels.formula.api as smf"
   ]
  },
  {
   "cell_type": "code",
   "execution_count": 29,
   "metadata": {},
   "outputs": [
    {
     "name": "stderr",
     "output_type": "stream",
     "text": [
      "c:\\users\\naomi\\appdata\\local\\programs\\python\\python37-32\\lib\\site-packages\\ipykernel_launcher.py:25: FutureWarning: Sorting because non-concatenation axis is not aligned. A future version\n",
      "of pandas will change to not sort by default.\n",
      "\n",
      "To accept the future behavior, pass 'sort=False'.\n",
      "\n",
      "To retain the current behavior and silence the warning, pass 'sort=True'.\n",
      "\n"
     ]
    }
   ],
   "source": [
    "def create_poisson_model(df):\n",
    "    goal_model_data = pd.concat([df[['HomeTeam','AwayTeam','FTHG']].assign(home=1).rename(\n",
    "                columns={'HomeTeam':'HomeTeam', 'AwayTeam':'AwayTeam','FTHG':'goals'}),\n",
    "               df[['AwayTeam','HomeTeam','FTAG']].assign(home=0).rename(\n",
    "                columns={'AwayTeam':'HomeTeam', 'HomeTeam':'AwayTeam','FTAG':'goals'})])\n",
    "    goal_model_data[['goals']] = goal_model_data[['goals']].astype(int)\n",
    "    poisson_model = smf.glm(formula='goals ~ home + HomeTeam + AwayTeam', data=goal_model_data, \n",
    "                           family=sm.families.Poisson()).fit()\n",
    "    return poisson_model\n",
    "model_6 = create_poisson_model(raw_data_6)\n",
    "model_7 = create_poisson_model(raw_data_7)\n",
    "model_8 = create_poisson_model(raw_data_8)\n",
    "model_9 = create_poisson_model(raw_data_9)\n",
    "model_10 = create_poisson_model(raw_data_10)\n",
    "model_11 = create_poisson_model(raw_data_11)\n",
    "model_12 = create_poisson_model(raw_data_12)\n",
    "model_13 = create_poisson_model(raw_data_13)\n",
    "model_14 = create_poisson_model(raw_data_14)\n",
    "model_15 = create_poisson_model(raw_data_15)\n",
    "model_16 = create_poisson_model(raw_data_16)\n",
    "model_17 = create_poisson_model(raw_data_17)\n",
    "model_18 = create_poisson_model(raw_data_18)\n",
    "model_19 = create_poisson_model(raw_data_19)\n",
    "#creating a general model\n",
    "poisson_model = create_poisson_model(pd.concat([raw_data_6,raw_data_7,raw_data_8,raw_data_9,raw_data_10,raw_data_11,\\\n",
    "                                                raw_data_12,raw_data_13,raw_data_14,raw_data_15,raw_data_16,raw_data_17,\\\n",
    "                                                raw_data_18,raw_data_19], ignore_index=True))"
   ]
  },
  {
   "cell_type": "code",
   "execution_count": 30,
   "metadata": {},
   "outputs": [
    {
     "data": {
      "text/plain": [
       "1    1.701534\n",
       "dtype: float64"
      ]
     },
     "execution_count": 30,
     "metadata": {},
     "output_type": "execute_result"
    }
   ],
   "source": [
    "poisson_model.predict(pd.DataFrame(data={'HomeTeam': 'Chelsea', 'AwayTeam': 'Arsenal',\n",
    "                                       'home':1},index=[1]))"
   ]
  },
  {
   "cell_type": "code",
   "execution_count": 31,
   "metadata": {},
   "outputs": [
    {
     "data": {
      "text/plain": [
       "1    1.434368\n",
       "dtype: float64"
      ]
     },
     "execution_count": 31,
     "metadata": {},
     "output_type": "execute_result"
    }
   ],
   "source": [
    "poisson_model.predict(pd.DataFrame(data={'HomeTeam': 'Arsenal', 'AwayTeam': 'Chelsea',\n",
    "                                       'home':1},index=[1]))"
   ]
  },
  {
   "cell_type": "code",
   "execution_count": 19,
   "metadata": {},
   "outputs": [
    {
     "name": "stderr",
     "output_type": "stream",
     "text": [
      "c:\\users\\naomi\\appdata\\local\\programs\\python\\python37-32\\lib\\site-packages\\ipykernel_launcher.py:21: SettingWithCopyWarning: \n",
      "A value is trying to be set on a copy of a slice from a DataFrame.\n",
      "Try using .loc[row_indexer,col_indexer] = value instead\n",
      "\n",
      "See the caveats in the documentation: http://pandas.pydata.org/pandas-docs/stable/indexing.html#indexing-view-versus-copy\n",
      "c:\\users\\naomi\\appdata\\local\\programs\\python\\python37-32\\lib\\site-packages\\ipykernel_launcher.py:22: SettingWithCopyWarning: \n",
      "A value is trying to be set on a copy of a slice from a DataFrame.\n",
      "Try using .loc[row_indexer,col_indexer] = value instead\n",
      "\n",
      "See the caveats in the documentation: http://pandas.pydata.org/pandas-docs/stable/indexing.html#indexing-view-versus-copy\n",
      "c:\\users\\naomi\\appdata\\local\\programs\\python\\python37-32\\lib\\site-packages\\ipykernel_launcher.py:23: SettingWithCopyWarning: \n",
      "A value is trying to be set on a copy of a slice from a DataFrame.\n",
      "Try using .loc[row_indexer,col_indexer] = value instead\n",
      "\n",
      "See the caveats in the documentation: http://pandas.pydata.org/pandas-docs/stable/indexing.html#indexing-view-versus-copy\n"
     ]
    }
   ],
   "source": [
    "def simulate_match(foot_model, homeTeam, awayTeam, max_goals=5):\n",
    "    home_goals_avg = foot_model.predict(pd.DataFrame(data={'HomeTeam': homeTeam, \n",
    "                                                            'AwayTeam': awayTeam,'home':1},\n",
    "                                                      index=[1])).values[0]\n",
    "    away_goals_avg = foot_model.predict(pd.DataFrame(data={'HomeTeam': awayTeam, \n",
    "                                                            'AwayTeam': homeTeam,'home':0},\n",
    "                                                      index=[1])).values[0]\n",
    "    team_pred = [[poisson.pmf(i, team_avg) for i in range(0, max_goals+1)] for team_avg in [home_goals_avg, away_goals_avg]]\n",
    "    return(np.outer(np.array(team_pred[0]), np.array(team_pred[1])))\n",
    "\n",
    "def create_training_df(df, model):\n",
    "    data = df[['HomeTeam','AwayTeam','FTR']]\n",
    "    probHome = []\n",
    "    probDraw = []\n",
    "    probAway = []\n",
    "    for i,row in df.iterrows():\n",
    "        stats = simulate_match(model, row.HomeTeam, row.AwayTeam)\n",
    "        probHome.append(np.sum(np.tril(stats, -1)))\n",
    "        probDraw.append(np.sum(np.diag(stats)))\n",
    "        probAway.append(np.sum(np.triu(stats, 1)))\n",
    "    data['probHome'] = probHome\n",
    "    data['probDraw'] = probDraw\n",
    "    data['probAway'] = probAway\n",
    "    \n",
    "    return data\n",
    "\n",
    "train_6 = create_training_df(raw_data_6, model_6)\n",
    "train_7 = create_training_df(raw_data_7, model_7)\n",
    "train_8 = create_training_df(raw_data_8, model_8)\n",
    "train_9 = create_training_df(raw_data_9, model_9)\n",
    "train_10 = create_training_df(raw_data_10, model_10)\n",
    "train_11 = create_training_df(raw_data_11, model_11)\n",
    "train_12 = create_training_df(raw_data_12, model_12)\n",
    "train_13 = create_training_df(raw_data_13, model_13)\n",
    "train_14 = create_training_df(raw_data_14, model_14)\n",
    "train_15 = create_training_df(raw_data_15, model_15)\n",
    "train_16 = create_training_df(raw_data_16, model_16)\n",
    "train_17 = create_training_df(raw_data_17, model_17)\n",
    "train_18 = create_training_df(raw_data_18, model_18)\n",
    "train_19 = create_training_df(raw_data_19, model_19)"
   ]
  },
  {
   "cell_type": "markdown",
   "metadata": {},
   "source": [
    "* the probability of Chelsea (rows of the matrix) and Bournemouth (matrix columns) scoring a specific number of goals. \n"
   ]
  },
  {
   "cell_type": "markdown",
   "metadata": {},
   "source": [
    "* along the diagonal, both teams score the same the number of goals (e.g. P(0-0)=0.031). So, you can calculate the odds of draw by summing all the diagonal entries. Everything below the diagonal represents a Chelsea victory (e.g P(3-0)=0.149). If you prefer Over/Under markets, you can estimate P(Under 2.5 goals) by summing the entries where the sum of the column number and row number (both starting at zero) is less than 3 (i.e. the 6 values that form the upper left triangle). Luckily, we can use basic matrix manipulation functions to perform these calculations."
   ]
  },
  {
   "cell_type": "code",
   "execution_count": 33,
   "metadata": {},
   "outputs": [
    {
     "data": {
      "text/plain": [
       "0.7826831456358392"
      ]
     },
     "execution_count": 33,
     "metadata": {},
     "output_type": "execute_result"
    }
   ],
   "source": [
    "chel_bou = simulate_match(poisson_model, \"Chelsea\", \"Bournemouth\", max_goals=10)\n",
    "# chelsea win\n",
    "np.sum(np.tril(chel_bou, -1))"
   ]
  },
  {
   "cell_type": "code",
   "execution_count": 34,
   "metadata": {},
   "outputs": [
    {
     "data": {
      "text/plain": [
       "0.13684543578549174"
      ]
     },
     "execution_count": 34,
     "metadata": {},
     "output_type": "execute_result"
    }
   ],
   "source": [
    "# draw\n",
    "np.sum(np.diag(chel_bou))"
   ]
  },
  {
   "cell_type": "code",
   "execution_count": 35,
   "metadata": {},
   "outputs": [
    {
     "data": {
      "text/plain": [
       "0.08034390778585626"
      ]
     },
     "execution_count": 35,
     "metadata": {},
     "output_type": "execute_result"
    }
   ],
   "source": [
    "# bou win\n",
    "np.sum(np.triu(chel_bou, 1))"
   ]
  },
  {
   "cell_type": "code",
   "execution_count": 26,
   "metadata": {},
   "outputs": [
    {
     "data": {
      "text/html": [
       "<div>\n",
       "<style scoped>\n",
       "    .dataframe tbody tr th:only-of-type {\n",
       "        vertical-align: middle;\n",
       "    }\n",
       "\n",
       "    .dataframe tbody tr th {\n",
       "        vertical-align: top;\n",
       "    }\n",
       "\n",
       "    .dataframe thead th {\n",
       "        text-align: right;\n",
       "    }\n",
       "</style>\n",
       "<table border=\"1\" class=\"dataframe\">\n",
       "  <thead>\n",
       "    <tr style=\"text-align: right;\">\n",
       "      <th></th>\n",
       "      <th>HomeTeam</th>\n",
       "      <th>AwayTeam</th>\n",
       "      <th>FTR</th>\n",
       "      <th>probHome</th>\n",
       "      <th>probDraw</th>\n",
       "      <th>probAway</th>\n",
       "      <th>Result</th>\n",
       "    </tr>\n",
       "  </thead>\n",
       "  <tbody>\n",
       "    <tr>\n",
       "      <th>0</th>\n",
       "      <td>Aston Villa</td>\n",
       "      <td>Bolton</td>\n",
       "      <td>D</td>\n",
       "      <td>0.339368</td>\n",
       "      <td>0.278351</td>\n",
       "      <td>0.379429</td>\n",
       "      <td>0</td>\n",
       "    </tr>\n",
       "    <tr>\n",
       "      <th>1</th>\n",
       "      <td>Everton</td>\n",
       "      <td>Man United</td>\n",
       "      <td>A</td>\n",
       "      <td>0.184334</td>\n",
       "      <td>0.251895</td>\n",
       "      <td>0.557906</td>\n",
       "      <td>-1</td>\n",
       "    </tr>\n",
       "    <tr>\n",
       "      <th>2</th>\n",
       "      <td>Fulham</td>\n",
       "      <td>Birmingham</td>\n",
       "      <td>D</td>\n",
       "      <td>0.562088</td>\n",
       "      <td>0.253636</td>\n",
       "      <td>0.178718</td>\n",
       "      <td>0</td>\n",
       "    </tr>\n",
       "    <tr>\n",
       "      <th>3</th>\n",
       "      <td>Man City</td>\n",
       "      <td>West Brom</td>\n",
       "      <td>D</td>\n",
       "      <td>0.589613</td>\n",
       "      <td>0.246375</td>\n",
       "      <td>0.157671</td>\n",
       "      <td>0</td>\n",
       "    </tr>\n",
       "    <tr>\n",
       "      <th>4</th>\n",
       "      <td>Middlesbrough</td>\n",
       "      <td>Liverpool</td>\n",
       "      <td>D</td>\n",
       "      <td>0.202942</td>\n",
       "      <td>0.263153</td>\n",
       "      <td>0.529407</td>\n",
       "      <td>0</td>\n",
       "    </tr>\n",
       "  </tbody>\n",
       "</table>\n",
       "</div>"
      ],
      "text/plain": [
       "        HomeTeam    AwayTeam FTR  probHome  probDraw  probAway  Result\n",
       "0    Aston Villa      Bolton   D  0.339368  0.278351  0.379429       0\n",
       "1        Everton  Man United   A  0.184334  0.251895  0.557906      -1\n",
       "2         Fulham  Birmingham   D  0.562088  0.253636  0.178718       0\n",
       "3       Man City   West Brom   D  0.589613  0.246375  0.157671       0\n",
       "4  Middlesbrough   Liverpool   D  0.202942  0.263153  0.529407       0"
      ]
     },
     "execution_count": 26,
     "metadata": {},
     "output_type": "execute_result"
    }
   ],
   "source": [
    "def transformResult(row):\n",
    "    '''Converts results (H,A or D) into numeric values'''\n",
    "    if(row.FTR == 'H'):\n",
    "        return 1\n",
    "    elif(row.FTR == 'A'):\n",
    "        return -1\n",
    "    else:\n",
    "        return 0\n",
    "training_data = pd.concat([train_6,train_7,train_8,train_9,train_10,train_11,\n",
    "                          train_12,train_13,train_14,train_15,train_16,train_17,\n",
    "                          train_18,train_19], ignore_index=True)\n",
    "training_data[\"Result\"] = training_data.apply(lambda row: transformResult(row),axis=1)\n",
    "\n",
    "training_data.head()"
   ]
  },
  {
   "cell_type": "markdown",
   "metadata": {},
   "source": [
    "# Applying Machine learning to the data"
   ]
  },
  {
   "cell_type": "code",
   "execution_count": 27,
   "metadata": {},
   "outputs": [],
   "source": [
    "from sklearn.tree import DecisionTreeClassifier\n",
    "from xgboost import XGBClassifier\n",
    "from sklearn.metrics import accuracy_score\n",
    "from sklearn.model_selection import cross_val_score\n",
    "from sklearn.linear_model import LogisticRegression\n",
    "from sklearn.ensemble import RandomForestClassifier\n",
    "from sklearn.neighbors import KNeighborsClassifier\n",
    "from sklearn.neural_network import MLPClassifier\n",
    "from sklearn.ensemble import voting_classifier\n",
    "from sklearn.svm import SVC\n",
    "from mlxtend.classifier import StackingClassifier"
   ]
  },
  {
   "cell_type": "code",
   "execution_count": 38,
   "metadata": {},
   "outputs": [
    {
     "name": "stdout",
     "output_type": "stream",
     "text": [
      "   probHome  probDraw  probAway\n",
      "0  0.339368  0.278351  0.379429\n",
      "1  0.184334  0.251895  0.557906\n",
      "2  0.562088  0.253636  0.178718\n",
      "3  0.589613  0.246375  0.157671\n",
      "4  0.202942  0.263153  0.529407 0    0\n",
      "1   -1\n",
      "2    0\n",
      "3    0\n",
      "4    0\n",
      "Name: Result, dtype: int64\n"
     ]
    }
   ],
   "source": [
    "# from sklearn.cross_validation import train_test_split\n",
    "from sklearn.preprocessing import StandardScaler\n",
    "\n",
    "X_all = training_data[['probHome','probDraw','probAway',]]\n",
    "y_all = training_data['Result']\n",
    "'''scaler = StandardScaler()\n",
    "scaler.fit(X_all)\n",
    "X_all = scaler.transform(X_all)'''\n",
    "\n",
    "X_train = X_all[:-140]\n",
    "X_test = X_all[-140:]\n",
    "y_train = y_all[:-140]\n",
    "y_test = y_all[-140:]\n",
    "print(X_train[:5], y_train[:5])"
   ]
  },
  {
   "cell_type": "code",
   "execution_count": 39,
   "metadata": {},
   "outputs": [],
   "source": [
    "class StackedModels():\n",
    "    def __init__(self):\n",
    "        self.baseLearner = MLPClassifier(solver='lbfgs', alpha=1e-5, early_stopping=True, shuffle=False)\n",
    "        self.clf3 = XGBClassifier(n_estimators=100, base_score = 70)\n",
    "        self.clf4 = SVC(kernel='rbf')\n",
    "        self.clf6 = LogisticRegression(C=8,solver='lbfgs',multi_class='ovr')\n",
    "        \n",
    "    def fit(self, X, y):\n",
    "        ypred3 = self.clf3.fit(X, y).predict(X)\n",
    "        ypred4 = self.clf4.fit(X, y).predict(X)\n",
    "        ypred6 = self.clf6.fit(X, y).predict(X)\n",
    "        \n",
    "        metadata = pd.DataFrame()\n",
    "        metadata['XGB'] = ypred3\n",
    "        metadata['SVC'] = ypred4\n",
    "        metadata['LogReg'] = ypred6\n",
    "        \n",
    "        self.baseLearner.fit(metadata, y)\n",
    "        \n",
    "    def predict(self, X):\n",
    "        ypred3 = self.clf3.predict(X)\n",
    "        ypred4 = self.clf4.predict(X)\n",
    "        ypred6 = self.clf6.predict(X)\n",
    "        \n",
    "        metadata = pd.DataFrame()\n",
    "        metadata['XGB'] = ypred3\n",
    "        metadata['SVC'] = ypred4\n",
    "        metadata['LogReg'] = ypred6\n",
    "        \n",
    "        return self.baseLearner.predict(metadata)"
   ]
  },
  {
   "cell_type": "code",
   "execution_count": 40,
   "metadata": {},
   "outputs": [],
   "source": [
    "clf1 = RandomForestClassifier()\n",
    "clf3 = XGBClassifier(n_estimators=100, base_score = 70)\n",
    "clf4 = SVC(kernel='rbf')\n",
    "clf5 = KNeighborsClassifier(n_neighbors=13)\n",
    "clf6 = LogisticRegression(C=8,solver='lbfgs',multi_class='ovr')\n",
    "clf7 = MLPClassifier(solver='lbfgs', alpha=1e-5, early_stopping=True, shuffle=False)\n",
    "\n",
    "sclf1 = StackingClassifier(classifiers=[clf3,clf6], meta_classifier=clf4)\n",
    "sclf2 = StackingClassifier(classifiers=[clf3,clf6], use_probas=True, average_probas=False, meta_classifier=clf4)\n",
    "sclf3 = StackedModels()"
   ]
  },
  {
   "cell_type": "code",
   "execution_count": 41,
   "metadata": {},
   "outputs": [
    {
     "name": "stderr",
     "output_type": "stream",
     "text": [
      "c:\\users\\naomi\\appdata\\local\\programs\\python\\python37-32\\lib\\site-packages\\sklearn\\svm\\base.py:196: FutureWarning: The default value of gamma will change from 'auto' to 'scale' in version 0.22 to account better for unscaled features. Set gamma explicitly to 'auto' or 'scale' to avoid this warning.\n",
      "  \"avoid this warning.\", FutureWarning)\n",
      "c:\\users\\naomi\\appdata\\local\\programs\\python\\python37-32\\lib\\site-packages\\sklearn\\svm\\base.py:196: FutureWarning: The default value of gamma will change from 'auto' to 'scale' in version 0.22 to account better for unscaled features. Set gamma explicitly to 'auto' or 'scale' to avoid this warning.\n",
      "  \"avoid this warning.\", FutureWarning)\n",
      "c:\\users\\naomi\\appdata\\local\\programs\\python\\python37-32\\lib\\site-packages\\sklearn\\svm\\base.py:196: FutureWarning: The default value of gamma will change from 'auto' to 'scale' in version 0.22 to account better for unscaled features. Set gamma explicitly to 'auto' or 'scale' to avoid this warning.\n",
      "  \"avoid this warning.\", FutureWarning)\n",
      "c:\\users\\naomi\\appdata\\local\\programs\\python\\python37-32\\lib\\site-packages\\sklearn\\svm\\base.py:196: FutureWarning: The default value of gamma will change from 'auto' to 'scale' in version 0.22 to account better for unscaled features. Set gamma explicitly to 'auto' or 'scale' to avoid this warning.\n",
      "  \"avoid this warning.\", FutureWarning)\n",
      "c:\\users\\naomi\\appdata\\local\\programs\\python\\python37-32\\lib\\site-packages\\sklearn\\svm\\base.py:196: FutureWarning: The default value of gamma will change from 'auto' to 'scale' in version 0.22 to account better for unscaled features. Set gamma explicitly to 'auto' or 'scale' to avoid this warning.\n",
      "  \"avoid this warning.\", FutureWarning)\n",
      "c:\\users\\naomi\\appdata\\local\\programs\\python\\python37-32\\lib\\site-packages\\sklearn\\svm\\base.py:196: FutureWarning: The default value of gamma will change from 'auto' to 'scale' in version 0.22 to account better for unscaled features. Set gamma explicitly to 'auto' or 'scale' to avoid this warning.\n",
      "  \"avoid this warning.\", FutureWarning)\n",
      "c:\\users\\naomi\\appdata\\local\\programs\\python\\python37-32\\lib\\site-packages\\sklearn\\svm\\base.py:196: FutureWarning: The default value of gamma will change from 'auto' to 'scale' in version 0.22 to account better for unscaled features. Set gamma explicitly to 'auto' or 'scale' to avoid this warning.\n",
      "  \"avoid this warning.\", FutureWarning)\n",
      "c:\\users\\naomi\\appdata\\local\\programs\\python\\python37-32\\lib\\site-packages\\sklearn\\svm\\base.py:196: FutureWarning: The default value of gamma will change from 'auto' to 'scale' in version 0.22 to account better for unscaled features. Set gamma explicitly to 'auto' or 'scale' to avoid this warning.\n",
      "  \"avoid this warning.\", FutureWarning)\n",
      "c:\\users\\naomi\\appdata\\local\\programs\\python\\python37-32\\lib\\site-packages\\sklearn\\svm\\base.py:196: FutureWarning: The default value of gamma will change from 'auto' to 'scale' in version 0.22 to account better for unscaled features. Set gamma explicitly to 'auto' or 'scale' to avoid this warning.\n",
      "  \"avoid this warning.\", FutureWarning)\n",
      "c:\\users\\naomi\\appdata\\local\\programs\\python\\python37-32\\lib\\site-packages\\sklearn\\svm\\base.py:196: FutureWarning: The default value of gamma will change from 'auto' to 'scale' in version 0.22 to account better for unscaled features. Set gamma explicitly to 'auto' or 'scale' to avoid this warning.\n",
      "  \"avoid this warning.\", FutureWarning)\n",
      "c:\\users\\naomi\\appdata\\local\\programs\\python\\python37-32\\lib\\site-packages\\sklearn\\svm\\base.py:196: FutureWarning: The default value of gamma will change from 'auto' to 'scale' in version 0.22 to account better for unscaled features. Set gamma explicitly to 'auto' or 'scale' to avoid this warning.\n",
      "  \"avoid this warning.\", FutureWarning)\n"
     ]
    },
    {
     "name": "stdout",
     "output_type": "stream",
     "text": [
      "[0.55       0.55212355 0.56370656 0.53088803 0.53667954 0.55984556\n",
      " 0.55212355 0.53088803 0.58413926 0.56866538]\n",
      "0.552905946842117\n",
      "Training Accuracy:  0.5532818532818533\n",
      "Testing Accuracy:  0.6214285714285714\n",
      "[0.4, 0.7, 0.5, 0.8, 0.6, 0.6, 0.8, 0.9, 0.5, 0.8, 0.5, 0.4, 0.7]\n"
     ]
    },
    {
     "data": {
      "text/plain": [
       "0.6307692307692309"
      ]
     },
     "execution_count": 41,
     "metadata": {},
     "output_type": "execute_result"
    }
   ],
   "source": [
    "y_pred = clf4.fit(X_train,y_train).predict(X_train)\n",
    "accuracy1 = accuracy_score(y_pred,y_train)\n",
    "accuracy2 = accuracy_score(clf4.predict(X_test),y_test)\n",
    "scores = cross_val_score(clf4, X_train, y_train, cv=10)\n",
    "print( scores)\n",
    "print (scores.mean())\n",
    "print('Training Accuracy: ', accuracy1)\n",
    "print('Testing Accuracy: ', accuracy2)\n",
    "preds = []\n",
    "j = 0\n",
    "for i in range(10, len(X_test), 10):\n",
    "    pred = clf4.predict(X_test[j:i])\n",
    "    true = y_test[j:i]\n",
    "    preds.append(accuracy_score(true, pred))\n",
    "    j=i\n",
    "print(preds)\n",
    "(sum(preds)/len(preds))"
   ]
  },
  {
   "cell_type": "code",
   "execution_count": 42,
   "metadata": {},
   "outputs": [
    {
     "name": "stderr",
     "output_type": "stream",
     "text": [
      "c:\\users\\naomi\\appdata\\local\\programs\\python\\python37-32\\lib\\site-packages\\sklearn\\svm\\base.py:196: FutureWarning: The default value of gamma will change from 'auto' to 'scale' in version 0.22 to account better for unscaled features. Set gamma explicitly to 'auto' or 'scale' to avoid this warning.\n",
      "  \"avoid this warning.\", FutureWarning)\n"
     ]
    },
    {
     "name": "stdout",
     "output_type": "stream",
     "text": [
      "[0.55769231 0.56756757 0.56756757 0.54054054 0.54826255 0.55405405\n",
      " 0.55405405 0.52895753 0.58413926 0.58027079]\n",
      "0.5583106226723248\n",
      "Training Accuracy:  0.5766409266409266\n",
      "Testing Accuracy:  0.6142857142857143\n",
      "[0.5, 0.6, 0.5, 0.8, 0.7, 0.5, 0.8, 0.9, 0.6, 0.7, 0.4, 0.4, 0.7]\n"
     ]
    },
    {
     "data": {
      "text/plain": [
       "0.6230769230769232"
      ]
     },
     "execution_count": 42,
     "metadata": {},
     "output_type": "execute_result"
    }
   ],
   "source": [
    "sclf3.fit(X_train,y_train)\n",
    "y_pred = sclf3.predict(X_train)\n",
    "accuracy1 = accuracy_score(y_pred,y_train)\n",
    "accuracy2 = accuracy_score(sclf3.predict(X_test),y_test)\n",
    "scores = cross_val_score(sclf3.baseLearner, X_train, y_train, cv=10)\n",
    "print( scores)\n",
    "print (scores.mean())\n",
    "print('Training Accuracy: ', accuracy1)\n",
    "print('Testing Accuracy: ', accuracy2)\n",
    "preds = []\n",
    "j = 0\n",
    "for i in range(10, len(X_test), 10):\n",
    "    pred = sclf3.predict(X_test[j:i])\n",
    "    true = y_test[j:i]\n",
    "    preds.append(accuracy_score(true, pred))\n",
    "    j=i\n",
    "print(preds)\n",
    "(sum(preds)/len(preds))"
   ]
  },
  {
   "cell_type": "code",
   "execution_count": 43,
   "metadata": {},
   "outputs": [
    {
     "name": "stdout",
     "output_type": "stream",
     "text": [
      "[0.55       0.56949807 0.56177606 0.54440154 0.55405405 0.55019305\n",
      " 0.55212355 0.53281853 0.58413926 0.58220503]\n",
      "0.5581209158868734\n",
      "Training Accuracy:  0.5588803088803089\n",
      "Testing Accuracy:  0.5928571428571429\n",
      "[0.4, 0.6, 0.5, 0.8, 0.7, 0.5, 0.7, 0.9, 0.6, 0.7, 0.4, 0.3, 0.7]\n"
     ]
    },
    {
     "data": {
      "text/plain": [
       "0.6000000000000001"
      ]
     },
     "execution_count": 43,
     "metadata": {},
     "output_type": "execute_result"
    }
   ],
   "source": [
    "y_pred = clf6.fit(X_train, y_train).predict(X_train)\n",
    "accuracy1 = accuracy_score(y_pred,y_train)\n",
    "accuracy2 = accuracy_score(clf6.predict(X_test),y_test)\n",
    "scores = cross_val_score(clf6, X_train, y_train, cv=10)\n",
    "print( scores)\n",
    "print( scores.mean())\n",
    "print('Training Accuracy: ', accuracy1)\n",
    "print('Testing Accuracy: ', accuracy2)\n",
    "preds = []\n",
    "j = 0\n",
    "for i in range(10, len(X_test), 10):\n",
    "    pred = clf6.predict(X_test[j:i])\n",
    "    true = y_test[j:i]\n",
    "    preds.append(accuracy_score(true, pred))\n",
    "    j=i\n",
    "print(preds)\n",
    "(sum(preds)/len(preds))"
   ]
  },
  {
   "cell_type": "code",
   "execution_count": 44,
   "metadata": {},
   "outputs": [
    {
     "name": "stdout",
     "output_type": "stream",
     "text": [
      "[0.55576923 0.56756757 0.55791506 0.54054054 0.55019305 0.55405405\n",
      " 0.55405405 0.53667954 0.58413926 0.58027079]\n",
      "0.5581183149800171\n",
      "Training Accuracy:  0.5602316602316603\n",
      "Testing Accuracy:  0.5928571428571429\n",
      "[0.4, 0.6, 0.5, 0.8, 0.7, 0.5, 0.7, 0.9, 0.6, 0.7, 0.4, 0.3, 0.7]\n"
     ]
    },
    {
     "data": {
      "text/plain": [
       "0.6000000000000001"
      ]
     },
     "execution_count": 44,
     "metadata": {},
     "output_type": "execute_result"
    }
   ],
   "source": [
    "y_pred = clf7.fit(X_train, y_train).predict(X_train)\n",
    "accuracy1 = accuracy_score(y_pred,y_train)\n",
    "accuracy2 = accuracy_score(clf7.predict(X_test),y_test)\n",
    "scores = cross_val_score(clf7, X_train, y_train, cv=10)\n",
    "print( scores)\n",
    "print( scores.mean())\n",
    "print('Training Accuracy: ', accuracy1)\n",
    "print('Testing Accuracy: ', accuracy2)\n",
    "preds = []\n",
    "j = 0\n",
    "for i in range(10, len(X_test), 10):\n",
    "    pred = clf7.predict(X_test[j:i])\n",
    "    true = y_test[j:i]\n",
    "    preds.append(accuracy_score(true, pred))\n",
    "    j=i\n",
    "print(preds)\n",
    "(sum(preds)/len(preds))"
   ]
  },
  {
   "cell_type": "markdown",
   "metadata": {},
   "source": [
    "# Dixon cole correction (Further analysis)"
   ]
  },
  {
   "cell_type": "code",
   "execution_count": null,
   "metadata": {},
   "outputs": [
    {
     "name": "stderr",
     "output_type": "stream",
     "text": [
      "c:\\users\\naomi\\appdata\\local\\programs\\python\\python37-32\\lib\\site-packages\\ipykernel_launcher.py:37: RuntimeWarning: divide by zero encountered in log\n",
      "c:\\users\\naomi\\appdata\\local\\programs\\python\\python37-32\\lib\\site-packages\\ipykernel_launcher.py:37: RuntimeWarning: invalid value encountered in log\n"
     ]
    }
   ],
   "source": [
    "#Dixon cole correction\n",
    "def rho_correction(x, y, lambda_x, mu_y, rho):\n",
    "    if x==0 and y==0:\n",
    "        return 1- (lambda_x * mu_y * rho)\n",
    "    elif x==0 and y==1:\n",
    "        return 1 + (lambda_x * rho)\n",
    "    elif x==1 and y==0:\n",
    "        return 1 + (mu_y * rho)\n",
    "    elif x==1 and y==1:\n",
    "        return 1 - rho\n",
    "    else:\n",
    "        return 1.0\n",
    "#find max likelyhood funtion\n",
    "def dc_log_like(x, y, alpha_x, beta_x, alpha_y, beta_y, rho, gamma):\n",
    "    lambda_x, mu_y = np.exp(alpha_x + beta_y + gamma), np.exp(alpha_y + beta_x) \n",
    "    return (np.log(rho_correction(x, y, lambda_x, mu_y, rho)) + \n",
    "            np.log(poisson.pmf(x, lambda_x)) + np.log(poisson.pmf(y, mu_y)))\n",
    "\n",
    "#coefficient that maximizes the data\n",
    "def solve_parameters(dataset, debug = False, init_vals=None, options={'disp': True, 'maxiter':100},\n",
    "                     constraints = [{'type':'eq', 'fun': lambda x: sum(x[:20])-20}] , **kwargs):\n",
    "    teams = np.sort(dataset['HomeTeam'].unique())\n",
    "    # check for no weirdness in dataset\n",
    "    away_teams = np.sort(dataset['AwayTeam'].unique())\n",
    "    if not np.array_equal(teams, away_teams):\n",
    "        raise ValueError(\"Something's not right\")\n",
    "    n_teams = len(teams)\n",
    "    if init_vals is None:\n",
    "        # random initialisation of model parameters\n",
    "        init_vals = np.concatenate((np.random.uniform(0,1,(n_teams)), # attack strength\n",
    "                                      np.random.uniform(0,-1,(n_teams)), # defence strength\n",
    "                                      np.array([0, 1.0]) # rho (score correction), gamma (home advantage)\n",
    "                                     ))\n",
    "    def dc_log_like(x, y, alpha_x, beta_x, alpha_y, beta_y, rho, gamma):\n",
    "        lambda_x, mu_y = np.exp(alpha_x + beta_y + gamma), np.exp(alpha_y + beta_x) \n",
    "        return (np.log(rho_correction(x, y, lambda_x, mu_y, rho)) + \n",
    "                np.log(poisson.pmf(x, lambda_x)) + np.log(poisson.pmf(y, mu_y)))\n",
    "\n",
    "    def estimate_paramters(params):\n",
    "        score_coefs = dict(zip(teams, params[:n_teams]))\n",
    "        defend_coefs = dict(zip(teams, params[n_teams:(2*n_teams)]))\n",
    "        rho, gamma = params[-2:]\n",
    "        log_like = [dc_log_like(row.FTHG, row.FTAG, score_coefs[row.HomeTeam], defend_coefs[row.HomeTeam],\n",
    "                     score_coefs[row.AwayTeam], defend_coefs[row.AwayTeam], rho, gamma) for row in dataset.itertuples()]\n",
    "        return -sum(log_like)\n",
    "    \n",
    "    opt_output = minimize(estimate_paramters, init_vals, options=options, constraints = constraints, **kwargs)\n",
    "    if debug:\n",
    "        # sort of hacky way to investigate the output of the optimisation process\n",
    "        return opt_output\n",
    "    else:\n",
    "        return dict(zip([\"attack_\"+team for team in teams] + \n",
    "                        [\"defence_\"+team for team in teams] +\n",
    "                        ['rho', 'home_adv'],\n",
    "                        opt_output.x))\n",
    "params = solve_parameters(raw_data_18)\n",
    "params_6 = solve_parameters(raw_data_6)\n",
    "params_7 = solve_parameters(raw_data_7)\n",
    "params_8 = solve_parameters(raw_data_8)\n",
    "params_9 = solve_parameters(raw_data_9)\n",
    "params_10 = solve_parameters(raw_data_10)\n",
    "params_11 = solve_parameters(raw_data_11)\n",
    "params_12 = solve_parameters(raw_data_12)\n",
    "params_13 = solve_parameters(raw_data_13)\n",
    "params_14 = solve_parameters(raw_data_14)\n",
    "params_15 = solve_parameters(raw_data_15)\n",
    "params_16 = solve_parameters(raw_data_16)\n",
    "params_17 = solve_parameters(raw_data_17)\n",
    "params_18 = solve_parameters(raw_data_18)\n",
    "params_19 = solve_parameters(raw_data_19)"
   ]
  },
  {
   "cell_type": "code",
   "execution_count": null,
   "metadata": {},
   "outputs": [],
   "source": []
  },
  {
   "cell_type": "code",
   "execution_count": 160,
   "metadata": {},
   "outputs": [
    {
     "ename": "NameError",
     "evalue": "name 'params_6' is not defined",
     "output_type": "error",
     "traceback": [
      "\u001b[1;31m---------------------------------------------------------------------------\u001b[0m",
      "\u001b[1;31mNameError\u001b[0m                                 Traceback (most recent call last)",
      "\u001b[1;32m<ipython-input-160-0129e6187774>\u001b[0m in \u001b[0;36m<module>\u001b[1;34m()\u001b[0m\n\u001b[0;32m     45\u001b[0m     \u001b[1;32mreturn\u001b[0m \u001b[0mdata\u001b[0m\u001b[1;33m\u001b[0m\u001b[0m\n\u001b[0;32m     46\u001b[0m \u001b[1;33m\u001b[0m\u001b[0m\n\u001b[1;32m---> 47\u001b[1;33m \u001b[0mtrain_6\u001b[0m \u001b[1;33m=\u001b[0m \u001b[0mcreate_training_df\u001b[0m\u001b[1;33m(\u001b[0m\u001b[0mraw_data_6\u001b[0m\u001b[1;33m,\u001b[0m \u001b[0mparams_6\u001b[0m\u001b[1;33m)\u001b[0m\u001b[1;33m\u001b[0m\u001b[0m\n\u001b[0m\u001b[0;32m     48\u001b[0m \u001b[0mtrain_7\u001b[0m \u001b[1;33m=\u001b[0m \u001b[0mcreate_training_df\u001b[0m\u001b[1;33m(\u001b[0m\u001b[0mraw_data_7\u001b[0m\u001b[1;33m,\u001b[0m \u001b[0mparams_7\u001b[0m\u001b[1;33m)\u001b[0m\u001b[1;33m\u001b[0m\u001b[0m\n\u001b[0;32m     49\u001b[0m \u001b[0mtrain_8\u001b[0m \u001b[1;33m=\u001b[0m \u001b[0mcreate_training_df\u001b[0m\u001b[1;33m(\u001b[0m\u001b[0mraw_data_8\u001b[0m\u001b[1;33m,\u001b[0m \u001b[0mparams_8\u001b[0m\u001b[1;33m)\u001b[0m\u001b[1;33m\u001b[0m\u001b[0m\n",
      "\u001b[1;31mNameError\u001b[0m: name 'params_6' is not defined"
     ]
    }
   ],
   "source": [
    "\n",
    "def calc_means(param_dict, homeTeam, awayTeam):\n",
    "    return [np.exp(param_dict['attack_'+homeTeam] + param_dict['defence_'+awayTeam] + param_dict['home_adv']),\n",
    "            np.exp(param_dict['defence_'+homeTeam] + param_dict['attack_'+awayTeam])]\n",
    "\n",
    "def dixon_coles_simulate_match(params_dict, homeTeam, awayTeam, max_goals=10):\n",
    "    team_avgs = calc_means(params_dict, homeTeam, awayTeam)\n",
    "    team_pred = [[poisson.pmf(i, team_avg) for i in range(0, max_goals+1)] for team_avg in team_avgs]\n",
    "    output_matrix = np.outer(np.array(team_pred[0]), np.array(team_pred[1]))\n",
    "    correction_matrix = np.array([[rho_correction(home_goals, away_goals, team_avgs[0],\n",
    "                                                   team_avgs[1], params['rho']) for away_goals in range(2)]\n",
    "                                   for home_goals in range(2)])\n",
    "    output_matrix[:2,:2] = output_matrix[:2,:2] * correction_matrix\n",
    "    return output_matrix\n",
    "\n",
    "def create_training_df(df, model):\n",
    "    data = df[['HomeTeam','AwayTeam','FTR']]\n",
    "    probHome = []\n",
    "    probDraw = []\n",
    "    probAway = []\n",
    "    HAS = []\n",
    "    HDS = []\n",
    "    AAS = []\n",
    "    ADS = []\n",
    "    HA = []\n",
    "    for i,row in df.iterrows():\n",
    "        stats = dixon_coles_simulate_match(model, row.HomeTeam, row.AwayTeam)\n",
    "        probHome.append(np.sum(np.tril(stats, -1)))\n",
    "        probDraw.append(np.sum(np.diag(stats)))\n",
    "        probAway.append(np.sum(np.triu(stats, 1)))\n",
    "        HAS.append(model['attack_'+row.HomeTeam])\n",
    "        HDS.append(model['defence_'+row.HomeTeam])\n",
    "        AAS.append(model['attack_'+row.HomeTeam])\n",
    "        ADS.append(model['defence_'+row.HomeTeam])\n",
    "\n",
    "    data['probHome'] = probHome\n",
    "    data['probDraw'] = probDraw\n",
    "    data['probAway'] = probAway\n",
    "    data['HAS'] = HAS\n",
    "    data['HDS'] = HDS\n",
    "    data['AAS'] = AAS\n",
    "    data['ADS'] = ADS\n",
    "\n",
    "    \n",
    "    return data\n",
    "\n",
    "train_6 = create_training_df(raw_data_6, params_6)\n",
    "train_7 = create_training_df(raw_data_7, params_7)\n",
    "train_8 = create_training_df(raw_data_8, params_8)\n",
    "train_9 = create_training_df(raw_data_9, params_9)\n",
    "train_10 = create_training_df(raw_data_10, params_10)\n",
    "train_11 = create_training_df(raw_data_11, params_11)\n",
    "train_12 = create_training_df(raw_data_12, params_12)\n",
    "train_13 = create_training_df(raw_data_13, params_13)\n",
    "train_14 = create_training_df(raw_data_14, params_14)\n",
    "train_15 = create_training_df(raw_data_15, params_15)\n",
    "train_16 = create_training_df(raw_data_16, params_16)\n",
    "train_17 = create_training_df(raw_data_17, params_17)\n",
    "train_18 = create_training_df(raw_data_18, params_18)\n",
    "train_19 = create_training_df(raw_data_19, params_19)"
   ]
  },
  {
   "cell_type": "code",
   "execution_count": 155,
   "metadata": {},
   "outputs": [
    {
     "data": {
      "text/html": [
       "<div>\n",
       "<style scoped>\n",
       "    .dataframe tbody tr th:only-of-type {\n",
       "        vertical-align: middle;\n",
       "    }\n",
       "\n",
       "    .dataframe tbody tr th {\n",
       "        vertical-align: top;\n",
       "    }\n",
       "\n",
       "    .dataframe thead th {\n",
       "        text-align: right;\n",
       "    }\n",
       "</style>\n",
       "<table border=\"1\" class=\"dataframe\">\n",
       "  <thead>\n",
       "    <tr style=\"text-align: right;\">\n",
       "      <th></th>\n",
       "      <th>HomeTeam</th>\n",
       "      <th>AwayTeam</th>\n",
       "      <th>FTR</th>\n",
       "      <th>probHome</th>\n",
       "      <th>probDraw</th>\n",
       "      <th>probAway</th>\n",
       "      <th>DHD</th>\n",
       "      <th>DAD</th>\n",
       "      <th>DHA</th>\n",
       "      <th>Result</th>\n",
       "    </tr>\n",
       "  </thead>\n",
       "  <tbody>\n",
       "    <tr>\n",
       "      <th>0</th>\n",
       "      <td>Aston Villa</td>\n",
       "      <td>Bolton</td>\n",
       "      <td>D</td>\n",
       "      <td>0.339368</td>\n",
       "      <td>0.278351</td>\n",
       "      <td>0.379429</td>\n",
       "      <td>0.061017</td>\n",
       "      <td>0.101078</td>\n",
       "      <td>-0.040061</td>\n",
       "      <td>0</td>\n",
       "    </tr>\n",
       "    <tr>\n",
       "      <th>1</th>\n",
       "      <td>Everton</td>\n",
       "      <td>Man United</td>\n",
       "      <td>A</td>\n",
       "      <td>0.184334</td>\n",
       "      <td>0.251895</td>\n",
       "      <td>0.557906</td>\n",
       "      <td>-0.067561</td>\n",
       "      <td>0.306011</td>\n",
       "      <td>-0.373572</td>\n",
       "      <td>-1</td>\n",
       "    </tr>\n",
       "    <tr>\n",
       "      <th>2</th>\n",
       "      <td>Fulham</td>\n",
       "      <td>Birmingham</td>\n",
       "      <td>D</td>\n",
       "      <td>0.562088</td>\n",
       "      <td>0.253636</td>\n",
       "      <td>0.178718</td>\n",
       "      <td>0.308451</td>\n",
       "      <td>-0.074919</td>\n",
       "      <td>0.383370</td>\n",
       "      <td>0</td>\n",
       "    </tr>\n",
       "    <tr>\n",
       "      <th>3</th>\n",
       "      <td>Man City</td>\n",
       "      <td>West Brom</td>\n",
       "      <td>D</td>\n",
       "      <td>0.589613</td>\n",
       "      <td>0.246375</td>\n",
       "      <td>0.157671</td>\n",
       "      <td>0.343238</td>\n",
       "      <td>-0.088704</td>\n",
       "      <td>0.431942</td>\n",
       "      <td>0</td>\n",
       "    </tr>\n",
       "    <tr>\n",
       "      <th>4</th>\n",
       "      <td>Middlesbrough</td>\n",
       "      <td>Liverpool</td>\n",
       "      <td>D</td>\n",
       "      <td>0.202942</td>\n",
       "      <td>0.263153</td>\n",
       "      <td>0.529407</td>\n",
       "      <td>-0.060211</td>\n",
       "      <td>0.266254</td>\n",
       "      <td>-0.326465</td>\n",
       "      <td>0</td>\n",
       "    </tr>\n",
       "  </tbody>\n",
       "</table>\n",
       "</div>"
      ],
      "text/plain": [
       "        HomeTeam    AwayTeam FTR  probHome  probDraw  probAway       DHD  \\\n",
       "0    Aston Villa      Bolton   D  0.339368  0.278351  0.379429  0.061017   \n",
       "1        Everton  Man United   A  0.184334  0.251895  0.557906 -0.067561   \n",
       "2         Fulham  Birmingham   D  0.562088  0.253636  0.178718  0.308451   \n",
       "3       Man City   West Brom   D  0.589613  0.246375  0.157671  0.343238   \n",
       "4  Middlesbrough   Liverpool   D  0.202942  0.263153  0.529407 -0.060211   \n",
       "\n",
       "        DAD       DHA  Result  \n",
       "0  0.101078 -0.040061       0  \n",
       "1  0.306011 -0.373572      -1  \n",
       "2 -0.074919  0.383370       0  \n",
       "3 -0.088704  0.431942       0  \n",
       "4  0.266254 -0.326465       0  "
      ]
     },
     "execution_count": 155,
     "metadata": {},
     "output_type": "execute_result"
    }
   ],
   "source": [
    "training_data = pd.concat([train_6,train_7,train_8,train_9,train_10,train_11,\n",
    "                          train_12,train_13,train_14,train_15,train_16,train_17,\n",
    "                          train_18,train_19], ignore_index=True)\n",
    "training_data[\"Result\"] = training_data.apply(lambda row: transformResult(row),axis=1)\n",
    "\n",
    "training_data.head()"
   ]
  },
  {
   "cell_type": "code",
   "execution_count": 156,
   "metadata": {},
   "outputs": [
    {
     "name": "stdout",
     "output_type": "stream",
     "text": [
      "   probHome  probDraw  probAway\n",
      "0  0.339368  0.278351  0.379429\n",
      "1  0.184334  0.251895  0.557906\n",
      "2  0.562088  0.253636  0.178718\n",
      "3  0.589613  0.246375  0.157671\n",
      "4  0.202942  0.263153  0.529407 0    0\n",
      "1   -1\n",
      "2    0\n",
      "3    0\n",
      "4    0\n",
      "Name: Result, dtype: int64\n"
     ]
    }
   ],
   "source": [
    "from sklearn.cross_validation import train_test_split\n",
    "from sklearn.preprocessing import StandardScaler\n",
    "\n",
    "X_all = training_data[['probHome','probDraw','probAway',]]\n",
    "y_all = training_data['Result']\n",
    "'''scaler = StandardScaler()\n",
    "scaler.fit(X_all)\n",
    "X_all = scaler.transform(X_all)'''\n",
    "\n",
    "X_train = X_all[:-140]\n",
    "X_test = X_all[-140:]\n",
    "y_train = y_all[:-140]\n",
    "y_test = y_all[-140:]\n",
    "print(X_train[:5], y_train[:5])"
   ]
  },
  {
   "cell_type": "code",
   "execution_count": 157,
   "metadata": {},
   "outputs": [
    {
     "name": "stdout",
     "output_type": "stream",
     "text": [
      "[0.54832347 0.55029586 0.55928854 0.53754941 0.52964427 0.55533597\n",
      " 0.55731225 0.52766798 0.5770751  0.58415842]\n",
      "0.5526651263016705\n",
      "Training Accuracy:  0.5532503457814661\n",
      "Testing Accuracy:  0.6142857142857143\n",
      "[0.5, 0.7, 0.7, 0.7, 0.9, 0.5, 0.6, 0.6, 0.5, 0.5, 0.9, 0.3, 0.6]\n"
     ]
    },
    {
     "data": {
      "text/plain": [
       "0.6153846153846153"
      ]
     },
     "execution_count": 157,
     "metadata": {},
     "output_type": "execute_result"
    }
   ],
   "source": [
    "y_pred = clf4.fit(X_train,y_train).predict(X_train)\n",
    "accuracy1 = accuracy_score(y_pred,y_train)\n",
    "accuracy2 = accuracy_score(clf4.predict(X_test),y_test)\n",
    "scores = cross_val_score(clf4, X_train, y_train, cv=10)\n",
    "print( scores)\n",
    "print (scores.mean())\n",
    "print('Training Accuracy: ', accuracy1)\n",
    "print('Testing Accuracy: ', accuracy2)\n",
    "preds = []\n",
    "j = 0\n",
    "for i in range(10, len(X_test), 10):\n",
    "    pred = clf4.predict(X_test[j:i])\n",
    "    true = y_test[j:i]\n",
    "    preds.append(accuracy_score(true, pred))\n",
    "    j=i\n",
    "print(preds)\n",
    "(sum(preds)/len(preds))"
   ]
  },
  {
   "cell_type": "code",
   "execution_count": 158,
   "metadata": {},
   "outputs": [
    {
     "name": "stdout",
     "output_type": "stream",
     "text": [
      "[0.55226824 0.56213018 0.55731225 0.54545455 0.54743083 0.5513834\n",
      " 0.55335968 0.52766798 0.57509881 0.5960396 ]\n",
      "0.5568145535932548\n",
      "Training Accuracy:  0.5575973127840348\n",
      "Testing Accuracy:  0.5928571428571429\n",
      "[0.5, 0.7, 0.6, 0.6, 0.9, 0.5, 0.6, 0.6, 0.5, 0.5, 0.8, 0.3, 0.6]\n"
     ]
    },
    {
     "data": {
      "text/plain": [
       "0.5923076923076922"
      ]
     },
     "execution_count": 158,
     "metadata": {},
     "output_type": "execute_result"
    }
   ],
   "source": [
    "y_pred = clf6.fit(X_train, y_train).predict(X_train)\n",
    "accuracy1 = accuracy_score(y_pred,y_train)\n",
    "accuracy2 = accuracy_score(clf6.predict(X_test),y_test)\n",
    "scores = cross_val_score(clf6, X_train, y_train, cv=10)\n",
    "print( scores)\n",
    "print( scores.mean())\n",
    "print('Training Accuracy: ', accuracy1)\n",
    "print('Testing Accuracy: ', accuracy2)\n",
    "preds = []\n",
    "j = 0\n",
    "for i in range(10, len(X_test), 10):\n",
    "    pred = clf6.predict(X_test[j:i])\n",
    "    true = y_test[j:i]\n",
    "    preds.append(accuracy_score(true, pred))\n",
    "    j=i\n",
    "print(preds)\n",
    "(sum(preds)/len(preds))"
   ]
  },
  {
   "cell_type": "code",
   "execution_count": 159,
   "metadata": {},
   "outputs": [
    {
     "name": "stdout",
     "output_type": "stream",
     "text": [
      "[0.5581854  0.56015779 0.55533597 0.54940711 0.54150198 0.56324111\n",
      " 0.55533597 0.52964427 0.57114625 0.5980198 ]\n",
      "0.5581975645467815\n",
      "Training Accuracy:  0.5583876704208655\n",
      "Testing Accuracy:  0.6\n",
      "[0.5, 0.7, 0.6, 0.7, 0.9, 0.5, 0.6, 0.6, 0.5, 0.5, 0.8, 0.3, 0.6]\n"
     ]
    },
    {
     "data": {
      "text/plain": [
       "0.5999999999999999"
      ]
     },
     "execution_count": 159,
     "metadata": {},
     "output_type": "execute_result"
    }
   ],
   "source": [
    "y_pred = clf7.fit(X_train, y_train).predict(X_train)\n",
    "accuracy1 = accuracy_score(y_pred,y_train)\n",
    "accuracy2 = accuracy_score(clf7.predict(X_test),y_test)\n",
    "scores = cross_val_score(clf7, X_train, y_train, cv=10)\n",
    "print( scores)\n",
    "print( scores.mean())\n",
    "print('Training Accuracy: ', accuracy1)\n",
    "print('Testing Accuracy: ', accuracy2)\n",
    "preds = []\n",
    "j = 0\n",
    "for i in range(10, len(X_test), 10):\n",
    "    pred = clf7.predict(X_test[j:i])\n",
    "    true = y_test[j:i]\n",
    "    preds.append(accuracy_score(true, pred))\n",
    "    j=i\n",
    "print(preds)\n",
    "(sum(preds)/len(preds))"
   ]
  },
  {
   "cell_type": "code",
   "execution_count": 152,
   "metadata": {},
   "outputs": [
    {
     "name": "stdout",
     "output_type": "stream",
     "text": [
      "Arsenal Win\n",
      "Basic Poisson: 0.71846; Dixon-Coles: 0.70950\n",
      "Southampton Win\n",
      "Basic Poisson: 0.11446; Dixon-Coles: 0.10437\n",
      "Draw\n",
      "Basic Poisson: 0.16703; Dixon-Coles: 0.18608\n"
     ]
    },
    {
     "data": {
      "text/plain": [
       "{'attack_Arsenal': 1.4475858074902475,\n",
       " 'attack_Bournemouth': 0.9564105807513873,\n",
       " 'attack_Brighton': 0.6847046291339082,\n",
       " 'attack_Burnley': 0.6983009142511599,\n",
       " 'attack_Chelsea': 1.2572167560812446,\n",
       " 'attack_Crystal Palace': 0.9493634338960069,\n",
       " 'attack_Everton': 0.9377411446194152,\n",
       " 'attack_Huddersfield': 0.4893145906552175,\n",
       " 'attack_Leicester': 1.1898939805077893,\n",
       " 'attack_Liverpool': 1.564357013100812,\n",
       " 'attack_Man City': 1.7859980837428087,\n",
       " 'attack_Man United': 1.3309373358933727,\n",
       " 'attack_Newcastle': 0.7670315127296671,\n",
       " 'attack_Southampton': 0.765178564422275,\n",
       " 'attack_Stoke': 0.7195946594667848,\n",
       " 'attack_Swansea': 0.46643864815993835,\n",
       " 'attack_Tottenham': 1.4273421919579947,\n",
       " 'attack_Watford': 0.9338721308903465,\n",
       " 'attack_West Brom': 0.5837455633440352,\n",
       " 'attack_West Ham': 1.0449724589055875,\n",
       " 'defence_Arsenal': -0.9057993062408979,\n",
       " 'defence_Bournemouth': -0.758464865507013,\n",
       " 'defence_Brighton': -0.8945995727637919,\n",
       " 'defence_Burnley': -1.2267112740965855,\n",
       " 'defence_Chelsea': -1.2203351967838196,\n",
       " 'defence_Crystal Palace': -0.8536739731813011,\n",
       " 'defence_Everton': -0.809753294804807,\n",
       " 'defence_Huddersfield': -0.8264347132362524,\n",
       " 'defence_Leicester': -0.7548346989195818,\n",
       " 'defence_Liverpool': -1.175541500174756,\n",
       " 'defence_Man City': -1.5158441247127534,\n",
       " 'defence_Man United': -1.5183914061072512,\n",
       " 'defence_Newcastle': -1.040383747066977,\n",
       " 'defence_Southampton': -0.849806765122921,\n",
       " 'defence_Stoke': -0.6625949582122952,\n",
       " 'defence_Swansea': -0.8656970999886872,\n",
       " 'defence_Tottenham': -1.271982549851644,\n",
       " 'defence_Watford': -0.7091290177207179,\n",
       " 'defence_West Brom': -0.8701844689862215,\n",
       " 'defence_West Ham': -0.6432153166780865,\n",
       " 'rho': -0.1285216605630372,\n",
       " 'home_adv': 0.2944477736840059}"
      ]
     },
     "execution_count": 152,
     "metadata": {},
     "output_type": "execute_result"
    }
   ],
   "source": [
    "ars_sou_dc = dixon_coles_simulate_match(params, 'Arsenal', 'Southampton', max_goals=10)\n",
    "ars_sou = simulate_match(poisson_model, 'Arsenal', 'Southampton', max_goals=10)\n",
    "\n",
    "# [Simple Poisson, Dixon-Coles]\n",
    "print(\"Arsenal Win\")\n",
    "print('; '.join(\"{0}: {1:.5f}\".format(model, prob) for model,prob in \n",
    "          zip([\"Basic Poisson\", \"Dixon-Coles\"], list(map(lambda x:np.sum(np.tril(x, -1)), [ars_sou, ars_sou_dc])))))\n",
    "print(\"Southampton Win\")\n",
    "print('; '.join(\"{0}: {1:.5f}\".format(model, prob) for model,prob in \n",
    "          zip([\"Basic Poisson\", \"Dixon-Coles\"], list(map(lambda x:np.sum(np.triu(x, 1)), [ars_sou, ars_sou_dc])))))\n",
    "print(\"Draw\")\n",
    "print('; '.join(\"{0}: {1:.5f}\".format(model, prob) for model,prob in \n",
    "          zip([\"Basic Poisson\", \"Dixon-Coles\"], list(map(lambda x:np.sum(np.diag(x)), [ars_sou, ars_sou_dc])))))\n",
    "params"
   ]
  },
  {
   "cell_type": "code",
   "execution_count": null,
   "metadata": {},
   "outputs": [],
   "source": []
  },
  {
   "cell_type": "markdown",
   "metadata": {},
   "source": [
    "Dixon-Coles Time Decay Mode"
   ]
  },
  {
   "cell_type": "code",
   "execution_count": 153,
   "metadata": {},
   "outputs": [
    {
     "name": "stderr",
     "output_type": "stream",
     "text": [
      "c:\\users\\naomi\\appdata\\local\\programs\\python\\python37-32\\lib\\site-packages\\ipykernel_launcher.py:27: RuntimeWarning: divide by zero encountered in log\n",
      "c:\\users\\naomi\\appdata\\local\\programs\\python\\python37-32\\lib\\site-packages\\ipykernel_launcher.py:27: RuntimeWarning: invalid value encountered in log\n"
     ]
    },
    {
     "name": "stdout",
     "output_type": "stream",
     "text": [
      "Optimization terminated successfully.    (Exit mode 0)\n",
      "            Current function value: 832.659891999235\n",
      "            Iterations: 56\n",
      "            Function evaluations: 2543\n",
      "            Gradient evaluations: 56\n"
     ]
    }
   ],
   "source": [
    "def dc_log_like_decay(x, y, alpha_x, beta_x, alpha_y, beta_y, rho, gamma, t, xi=0):\n",
    "    lambda_x, mu_y = np.exp(alpha_x + beta_y + gamma), np.exp(alpha_y + beta_x) \n",
    "    return  np.exp(-xi*t) * (np.log(rho_correction(x, y, lambda_x, mu_y, rho)) + \n",
    "                              np.log(poisson.pmf(x, lambda_x)) + np.log(poisson.pmf(y, mu_y)))\n",
    "\n",
    "def solve_parameters_decay(dataset, xi=0.001, debug = False, init_vals=None, options={'disp': True, 'maxiter':100},\n",
    "                     constraints = [{'type':'eq', 'fun': lambda x: sum(x[:20])-20}] , **kwargs):\n",
    "    dataset['Date'] = pd.to_datetime(dataset['Date'],  format='%d/%m/%y')\n",
    "    dataset['time_diff'] = (max(dataset['Date']) - dataset['Date']).dt.days\n",
    "    \n",
    "    teams = np.sort(dataset['HomeTeam'].unique())\n",
    "    # check for no weirdness in dataset\n",
    "    away_teams = np.sort(dataset['AwayTeam'].unique())\n",
    "    if not np.array_equal(teams, away_teams):\n",
    "        raise ValueError(\"something not right\")\n",
    "    n_teams = len(teams)\n",
    "    if init_vals is None:\n",
    "        # random initialisation of model parameters\n",
    "        init_vals = np.concatenate((np.random.uniform(0,1,(n_teams)), # attack strength\n",
    "                                      np.random.uniform(0,-1,(n_teams)), # defence strength\n",
    "                                      np.array([0,1.0]) # rho (score correction), gamma (home advantage)\n",
    "                                     ))\n",
    "        \n",
    "    def dc_log_like_decay(x, y, alpha_x, beta_x, alpha_y, beta_y, rho, gamma, t, xi=xi):\n",
    "        lambda_x, mu_y = np.exp(alpha_x + beta_y + gamma), np.exp(alpha_y + beta_x) \n",
    "        return  np.exp(-xi*t) * (np.log(rho_correction(x, y, lambda_x, mu_y, rho)) + \n",
    "                                  np.log(poisson.pmf(x, lambda_x)) + np.log(poisson.pmf(y, mu_y)))\n",
    "\n",
    "    def estimate_paramters(params):\n",
    "        score_coefs = dict(zip(teams, params[:n_teams]))\n",
    "        defend_coefs = dict(zip(teams, params[n_teams:(2*n_teams)]))\n",
    "        rho, gamma = params[-2:]\n",
    "        log_like = [dc_log_like_decay(row.FTHG, row.FTAG, score_coefs[row.HomeTeam], defend_coefs[row.HomeTeam],\n",
    "                                      score_coefs[row.AwayTeam], defend_coefs[row.AwayTeam], \n",
    "                                      rho, gamma, row.time_diff, xi=xi) for row in dataset.itertuples()]\n",
    "        return -sum(log_like)\n",
    "    opt_output = minimize(estimate_paramters, init_vals, options=options, constraints = constraints)\n",
    "    if debug:\n",
    "        # sort of hacky way to investigate the output of the optimisation process\n",
    "        return opt_output\n",
    "    else:\n",
    "        return dict(zip([\"attack_\"+team for team in teams] + \n",
    "                        [\"defence_\"+team for team in teams] +\n",
    "                        ['rho', 'home_adv'],\n",
    "                        opt_output.x))\n",
    "    \n",
    "\n",
    "params_xi= solve_parameters_decay(raw_data_18, xi=0.0018)"
   ]
  },
  {
   "cell_type": "code",
   "execution_count": 154,
   "metadata": {},
   "outputs": [
    {
     "data": {
      "text/plain": [
       "{'attack_Arsenal': 1.4593622334299337,\n",
       " 'attack_Bournemouth': 0.9854886321846675,\n",
       " 'attack_Brighton': 0.6992810660783704,\n",
       " 'attack_Burnley': 0.7043860279037488,\n",
       " 'attack_Chelsea': 1.2374336632122318,\n",
       " 'attack_Crystal Palace': 1.0097657239610083,\n",
       " 'attack_Everton': 0.9428918422580748,\n",
       " 'attack_Huddersfield': 0.46239901160121116,\n",
       " 'attack_Leicester': 1.1875118162290306,\n",
       " 'attack_Liverpool': 1.5541261402856996,\n",
       " 'attack_Man City': 1.7731930789468826,\n",
       " 'attack_Man United': 1.2929772306806224,\n",
       " 'attack_Newcastle': 0.7805629037806423,\n",
       " 'attack_Southampton': 0.770044812007251,\n",
       " 'attack_Stoke': 0.7004889544762181,\n",
       " 'attack_Swansea': 0.46825798678347946,\n",
       " 'attack_Tottenham': 1.428626752807814,\n",
       " 'attack_Watford': 0.8873689547446015,\n",
       " 'attack_West Brom': 0.5979419498502251,\n",
       " 'attack_West Ham': 1.057891218778287,\n",
       " 'defence_Arsenal': -0.903567417379041,\n",
       " 'defence_Bournemouth': -0.7435823314567216,\n",
       " 'defence_Brighton': -0.8857539707798485,\n",
       " 'defence_Burnley': -1.1824110726735566,\n",
       " 'defence_Chelsea': -1.1924670023889101,\n",
       " 'defence_Crystal Palace': -0.8759739051971009,\n",
       " 'defence_Everton': -0.8210874019466862,\n",
       " 'defence_Huddersfield': -0.8487756063004779,\n",
       " 'defence_Leicester': -0.7345705887389005,\n",
       " 'defence_Liverpool': -1.2115135986542604,\n",
       " 'defence_Man City': -1.508304583423899,\n",
       " 'defence_Man United': -1.5143353935377382,\n",
       " 'defence_Newcastle': -1.0661564909576073,\n",
       " 'defence_Southampton': -0.8556801347075057,\n",
       " 'defence_Stoke': -0.6877098906876693,\n",
       " 'defence_Swansea': -0.8574644492509481,\n",
       " 'defence_Tottenham': -1.2568290697773623,\n",
       " 'defence_Watford': -0.7264041897545774,\n",
       " 'defence_West Brom': -0.8733907759981985,\n",
       " 'defence_West Ham': -0.6651483251831151,\n",
       " 'rho': -0.13183921648876487,\n",
       " 'home_adv': 0.3031885259407556}"
      ]
     },
     "execution_count": 154,
     "metadata": {},
     "output_type": "execute_result"
    }
   ],
   "source": [
    "params_xi"
   ]
  },
  {
   "cell_type": "code",
   "execution_count": null,
   "metadata": {},
   "outputs": [],
   "source": []
  }
 ],
 "metadata": {
  "kernelspec": {
   "display_name": "Python 3",
   "language": "python",
   "name": "python3"
  },
  "language_info": {
   "codemirror_mode": {
    "name": "ipython",
    "version": 3
   },
   "file_extension": ".py",
   "mimetype": "text/x-python",
   "name": "python",
   "nbconvert_exporter": "python",
   "pygments_lexer": "ipython3",
   "version": "3.7.0"
  }
 },
 "nbformat": 4,
 "nbformat_minor": 2
}
